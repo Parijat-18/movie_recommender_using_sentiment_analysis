{
  "cells": [
    {
      "cell_type": "code",
      "execution_count": null,
      "metadata": {
        "colab": {
          "base_uri": "https://localhost:8080/"
        },
        "id": "_nb_SNFVMbNw",
        "outputId": "6ba20da6-c8f1-40b7-fbc8-9ec37db9935b"
      },
      "outputs": [
        {
          "name": "stdout",
          "output_type": "stream",
          "text": [
            "Mounted at /content/gdrive\n"
          ]
        }
      ],
      "source": [
        "from google.colab import drive\n",
        "drive.mount('/content/gdrive')"
      ]
    },
    {
      "cell_type": "code",
      "execution_count": null,
      "metadata": {
        "id": "AA7b0b3eDnX8"
      },
      "outputs": [],
      "source": [
        "%cd /content/gdrive/MyDrive/movie_recommender"
      ]
    },
    {
      "cell_type": "markdown",
      "metadata": {
        "id": "SzO_64p4Hsxr"
      },
      "source": [
        "### Installing and importing the necessary modules"
      ]
    },
    {
      "cell_type": "code",
      "execution_count": null,
      "metadata": {
        "id": "4mtnMNtR492d"
      },
      "outputs": [],
      "source": [
        "import numpy as np\n",
        "import pandas as pd\n",
        "from tqdm import tqdm"
      ]
    },
    {
      "cell_type": "code",
      "execution_count": null,
      "metadata": {
        "id": "fiHV24Q6BR7H"
      },
      "outputs": [],
      "source": [
        "from imdb_scraper import *\n",
        "from recommender import reviews_to_sent , get_mov_ranked , preprocess , GENRES"
      ]
    },
    {
      "cell_type": "markdown",
      "metadata": {
        "id": "VBm84ZEoV3Nz"
      },
      "source": [
        "### Load the model and tokenizer of your choice"
      ]
    },
    {
      "cell_type": "code",
      "execution_count": null,
      "metadata": {
        "colab": {
          "background_save": true,
          "base_uri": "https://localhost:8080/"
        },
        "id": "wLrYfVst-VAy",
        "outputId": "899cbb91-7c39-46ff-9c84-fb7833e28d78"
      },
      "outputs": [
        {
          "name": "stderr",
          "output_type": "stream",
          "text": [
            "All model checkpoint layers were used when initializing TFRobertaForSequenceClassification.\n",
            "\n",
            "All the layers of TFRobertaForSequenceClassification were initialized from the model checkpoint at arpanghoshal/EmoRoBERTa.\n",
            "If your task is similar to the task the model of the checkpoint was trained on, you can already use TFRobertaForSequenceClassification for predictions without further training.\n"
          ]
        }
      ],
      "source": [
        "from transformers import RobertaTokenizerFast, TFRobertaForSequenceClassification, pipeline\n",
        "\n",
        "tokenizer = RobertaTokenizerFast.from_pretrained(\"arpanghoshal/EmoRoBERTa\")\n",
        "model = TFRobertaForSequenceClassification.from_pretrained(\"arpanghoshal/EmoRoBERTa\")"
      ]
    },
    {
      "cell_type": "code",
      "execution_count": null,
      "metadata": {
        "id": "3fioI2Q0Gq6q"
      },
      "outputs": [],
      "source": [
        "# Create a pandas dataframe containing the movie and genres.\n",
        "df = pd.read_csv('movies.csv')\n",
        "\n",
        "# representing the genres of each movie in a sparse \n",
        "df = df.assign(**{genre: 0 for genre in GENRES})"
      ]
    },
    {
      "cell_type": "code",
      "execution_count": null,
      "metadata": {
        "colab": {
          "background_save": true
        },
        "id": "rCH6tJFiHD5l"
      },
      "outputs": [],
      "source": [
        "df = df.sample(500)"
      ]
    },
    {
      "cell_type": "code",
      "execution_count": 7,
      "metadata": {
        "colab": {
          "base_uri": "https://localhost:8080/"
        },
        "id": "Hizqs4ZgBMZl",
        "outputId": "6b4897db-9c15-477f-85ab-bff55d4ae51e"
      },
      "outputs": [
        {
          "output_type": "stream",
          "name": "stderr",
          "text": [
            " 85%|████████▌ | 425/500 [1:23:22<14:42, 11.77s/it]\n"
          ]
        }
      ],
      "source": [
        "preprocessed_df = preprocess(df, 'preprocessed_df.csv', model, tokenized=False, tokenizer=tokenizer, return_tensors='tf' , count=5)"
      ]
    },
    {
      "cell_type": "code",
      "execution_count": 8,
      "metadata": {
        "id": "mSlEHExmXXei"
      },
      "outputs": [],
      "source": [
        "mask = preprocessed_df['sentiment'].apply(lambda x: isinstance(x, np.ndarray) and x.shape == (28,))\n",
        "preprocessed_df = preprocessed_df[mask]"
      ]
    },
    {
      "cell_type": "code",
      "execution_count": 9,
      "metadata": {
        "id": "SV2REuI0TP9Z"
      },
      "outputs": [],
      "source": [
        "movie = \"John Wick\""
      ]
    },
    {
      "cell_type": "code",
      "execution_count": 10,
      "metadata": {
        "id": "DG7F8zd5TqA2"
      },
      "outputs": [],
      "source": [
        "recommended_movies = get_mov_ranked(preprocessed_df , movie , model , tokenizer=tokenizer , return_tensors=\"tf\" , mov_count=10)"
      ]
    },
    {
      "cell_type": "code",
      "execution_count": 12,
      "metadata": {
        "colab": {
          "base_uri": "https://localhost:8080/"
        },
        "id": "la3GmJoGUwa0",
        "outputId": "350c37c4-4903-424c-c3f2-673b6e0f070b"
      },
      "outputs": [
        {
          "output_type": "stream",
          "name": "stdout",
          "text": [
            "Recommended Movies: \n",
            "The Hit List (1993)\n",
            "Akira (2016)\n",
            "Real McCoy, The (1993)\n",
            "The Crash (2017)\n",
            "City of Industry (1997)\n",
            "Force 2 (2016)\n",
            "Raid (2003)\n",
            "Better Mus Come (2013)\n",
            "Most Wanted (1997)\n",
            "The Story of High Noon (2017)\n"
          ]
        }
      ],
      "source": [
        "print(\"Recommended Movies: \")\n",
        "for mov in recommended_movies:\n",
        "  print(mov)"
      ]
    },
    {
      "cell_type": "code",
      "source": [],
      "metadata": {
        "id": "KmQV-wOBtyCn"
      },
      "execution_count": null,
      "outputs": []
    }
  ],
  "metadata": {
    "colab": {
      "provenance": []
    },
    "gpuClass": "standard",
    "kernelspec": {
      "display_name": "Python 3",
      "name": "python3"
    },
    "language_info": {
      "name": "python"
    }
  },
  "nbformat": 4,
  "nbformat_minor": 0
}